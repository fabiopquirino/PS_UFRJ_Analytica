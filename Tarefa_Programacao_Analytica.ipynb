{
  "cells": [
    {
      "cell_type": "code",
      "execution_count": null,
      "id": "9d51a431",
      "metadata": {
        "id": "9d51a431",
        "colab": {
          "base_uri": "https://localhost:8080/"
        },
        "outputId": "3f879cf9-0f6e-4377-bfe6-0c1d3aece51f"
      },
      "outputs": [
        {
          "output_type": "stream",
          "name": "stdout",
          "text": [
            "5:12\n",
            "Input Inválido\n",
            "\n",
            "09:12\n",
            "O menor ângulo é de 156.0°\n",
            "\n",
            "09:00\n",
            "O menor ângulo é de 90.0°\n",
            "\n",
            "03:00\n",
            "O menor ângulo é de 90.0°\n",
            "\n",
            "f\n",
            "Fim...\n"
          ]
        }
      ],
      "source": [
        "# Calculadora de ângulo entre ponteiros do reógio\n",
        "# Obs: considera-se a posição do ponteiro das horas a cada minuto\n",
        "\n",
        "def menor_angulo():\n",
        "    \n",
        "    while True:\n",
        "    # Input\n",
        "        h = input()\n",
        "    \n",
        "    # Critério de parada\n",
        "        if h == 'f':\n",
        "            print (\"Fim...\")\n",
        "            return\n",
        "    \n",
        "    # Teste de erro\n",
        "        try:\n",
        "            hora = int(h[0] + h[1])\n",
        "            minuto = int(h[3] + h[4])\n",
        "        except ValueError:\n",
        "            print(\"Input Inválido\\n\")\n",
        "            continue\n",
        "        except IndexError:\n",
        "            print(\"Input Inválido\\n\")\n",
        "            continue\n",
        "        if (len(h) != 5) or (hora//24 != 0) or (minuto//60 != 0) or (h[2] != \":\"):\n",
        "            print(\"Input Inválido\\n\")\n",
        "            continue\n",
        "        else: \n",
        "            # Posição dos ponteiros em ° (pode ser de 0° a 360°)\n",
        "            ah = (360/12)*(hora%12 + minuto/60) \n",
        "            am = (360/60)*minuto\n",
        "\n",
        "            l = [abs(ah - am), 360 - abs(ah - am)]\n",
        "            l.sort()\n",
        "\n",
        "            print (\"O menor ângulo é de \" + str(l[0]) + \"°\\n\")\n",
        "\n",
        "menor_angulo()"
      ]
    },
    {
      "cell_type": "code",
      "execution_count": 1,
      "id": "d0786375",
      "metadata": {
        "id": "d0786375",
        "colab": {
          "base_uri": "https://localhost:8080/"
        },
        "outputId": "5045ee04-378e-4791-f196-4c051072e824"
      },
      "outputs": [
        {
          "output_type": "stream",
          "name": "stdout",
          "text": [
            "c4 d12\n",
            "Erro: o input não é valido. Insira apenas posições que existem no tabuleiro.\n",
            "\n",
            "asdfagvsdg\n",
            "Erro: o input não é valido. Insira apenas posições que existem no tabuleiro.\n",
            "\n",
            "c4 j1\n",
            "Erro: o input não é valido. Insira apenas posições que existem no tabuleiro.\n",
            "\n",
            "c4 a3\n",
            "VÁLIDO\n",
            "\n",
            "c4 a2\n",
            "INVÁLIDO\n",
            "\n",
            "f\n",
            "Fim...\n"
          ]
        }
      ],
      "source": [
        "# Movimentação do cavalo no xadrez \n",
        "# Exemplo de input: d4 c2\n",
        "\n",
        "def valida_movimentacao():\n",
        "    colunas = \"abcdefgh\"\n",
        "    linhas = \"12345678\"\n",
        "    erro = \"Erro: o input não é valido. Insira apenas posições que existem no tabuleiro.\\n\"\n",
        "    while True:\n",
        "        # Input da posicao\n",
        "        p = input()\n",
        "\n",
        "        if p == 'f':\n",
        "          print (\"Fim...\")\n",
        "          return\n",
        "\n",
        "        # Testes de erro\n",
        "        try:\n",
        "            c1 = p[0]\n",
        "            l1 = p[1] \n",
        "            c2 = p[3]\n",
        "            l2 = p[4]\n",
        "            \n",
        "        except IndexError:\n",
        "            print(erro)\n",
        "            continue\n",
        "            \n",
        "        if (c1 not in colunas) or (c2 not in colunas):\n",
        "            print (erro)\n",
        "        elif (l1 not in linhas) or (l2 not in linhas):\n",
        "            print (erro)\n",
        "        elif p[2] != ' ':\n",
        "            print (erro)\n",
        "        elif len(p) != 5:\n",
        "            print (erro)\n",
        "        else:\n",
        "        # Posições válidas\n",
        "            v = []\n",
        "            # Coluna variando 2 linha variando 1\n",
        "            for i in [-2, 2]:\n",
        "                for j in [-1, 1]:\n",
        "                  c_new = colunas.index(c1) + i\n",
        "                  l_new = linhas.index(l1) + j\n",
        "                  if c_new in range(8) and l_new in range (8):\n",
        "                    v.append(colunas[c_new] + linhas[l_new])\n",
        "\n",
        "            # Linha variando 1 coluna variando 2\n",
        "            for i in [-1, 1]:\n",
        "                for j in [-2, 2]:\n",
        "                  c_new = colunas.index(c1) + i\n",
        "                  l_new = linhas.index(l1) + j\n",
        "                  if c_new in range(8) and l_new in range (8):\n",
        "                    v.append(colunas[c_new] + linhas[l_new])\n",
        "            \n",
        "            if (c2 + l2) in v:\n",
        "              print('VÁLIDO\\n')\n",
        "\n",
        "            else:\n",
        "              print('INVÁLIDO\\n')\n",
        "\n",
        "            \n",
        "\n",
        "valida_movimentacao()"
      ]
    },
    {
      "cell_type": "code",
      "source": [
        "from ast import Index\n",
        "# Calculadora de troco\n",
        "\n",
        "def calculadora_troco():\n",
        "  #Erro padrão\n",
        "  erro = \"Erro: o input inserido não é válido.\\n\"\n",
        "\n",
        "  # Quantidade de cada cédula e moeda\n",
        "  cedulas =  {'100.00':0, '50.00':0, '20.00':0, '10.00':0, '5.00':0, '2.00':0, '1.00':0, '0.50':0, '0.25':0, '0.10':0, '0.05':0, '0.01':0}\n",
        "\n",
        "  while True:\n",
        "    x = input(\"Insira um valor com duas casas decimais\\n\")\n",
        "\n",
        "    #Teste de erro 1\n",
        "    try: \n",
        "      teste = x[-3]\n",
        "    except IndexError:\n",
        "      print(erro)\n",
        "      continue\n",
        "    # Teste de erro 2\n",
        "    if teste != '.':\n",
        "      print(erro)\n",
        "      continue\n",
        "    else:\n",
        "    # Teste de erro 3\n",
        "      try:\n",
        "        v = float(x)\n",
        "      except ValueError:\n",
        "        print(erro)\n",
        "        continue\n",
        "      for i in cedulas:\n",
        "        cedulas[i] = v//float(i)\n",
        "        v = v - float(i)*cedulas[i]\n",
        "      print (\"\\nNOTAS:\")\n",
        "      for i in cedulas:\n",
        "        if float(i)>1:\n",
        "          print(str(int(cedulas[i])) + ' nota(s) de R$ ' + i)\n",
        "        else:\n",
        "          if float(i) == 1:\n",
        "            print(\"\")\n",
        "            print(\"MOEDAS:\")\n",
        "          print(str(int(cedulas[i])) + ' moeda(s) de R$ ' + i)\n",
        "      return \n",
        "        \n",
        "      \n",
        "calculadora_troco()"
      ],
      "metadata": {
        "id": "GqMq6XfZBmwp",
        "colab": {
          "base_uri": "https://localhost:8080/"
        },
        "outputId": "46034633-5d1a-4b12-de5d-fa60a415b6ee"
      },
      "id": "GqMq6XfZBmwp",
      "execution_count": 4,
      "outputs": [
        {
          "output_type": "stream",
          "name": "stdout",
          "text": [
            "Insira um valor com duas casas decimais\n",
            "576.73\n",
            "\n",
            "NOTAS:\n",
            "5 nota(s) de R$ 100.00\n",
            "1 nota(s) de R$ 50.00\n",
            "1 nota(s) de R$ 20.00\n",
            "0 nota(s) de R$ 10.00\n",
            "1 nota(s) de R$ 5.00\n",
            "0 nota(s) de R$ 2.00\n",
            "\n",
            "MOEDAS:\n",
            "1 moeda(s) de R$ 1.00\n",
            "1 moeda(s) de R$ 0.50\n",
            "0 moeda(s) de R$ 0.25\n",
            "2 moeda(s) de R$ 0.10\n",
            "0 moeda(s) de R$ 0.05\n",
            "3 moeda(s) de R$ 0.01\n"
          ]
        }
      ]
    },
    {
      "cell_type": "code",
      "source": [
        "# Frequência de números\n",
        "\n",
        "def frequencia_numeros():\n",
        "  numeros = {} #número : nº de aparições\n",
        "  while True:\n",
        "    x = input()\n",
        "    # Condição de parada\n",
        "    if x == 'f':\n",
        "      ordem = sorted(numeros)\n",
        "      for i in ordem:\n",
        "        print(\"O número \" + str(i) + \" apareceu \" + str(numeros[i]) + \" vezes\")\n",
        "      print(\"Fim...\")\n",
        "      return \n",
        "    #Teste de erros\n",
        "    if '.' in x:\n",
        "      continue\n",
        "    try:\n",
        "      n = int(x)\n",
        "    except ValueError:\n",
        "      continue\n",
        "    #\n",
        "    if n not in numeros:\n",
        "      numeros[n] = 1\n",
        "    else:\n",
        "      numeros[n] += 1\n",
        "\n",
        "  \n",
        "frequencia_numeros()"
      ],
      "metadata": {
        "colab": {
          "base_uri": "https://localhost:8080/"
        },
        "id": "XSIBO7CBfq6r",
        "outputId": "d7dfeef1-e677-4b15-a213-03a070e7a525"
      },
      "id": "XSIBO7CBfq6r",
      "execution_count": 5,
      "outputs": [
        {
          "output_type": "stream",
          "name": "stdout",
          "text": [
            "2\n",
            "5\n",
            "8\n",
            "h\n",
            "d\n",
            "10\n",
            "10\n",
            "295222\n",
            "295222\n",
            "f\n",
            "O número 2 apareceu 1 vezes\n",
            "O número 5 apareceu 1 vezes\n",
            "O número 8 apareceu 1 vezes\n",
            "O número 10 apareceu 2 vezes\n",
            "O número 295222 apareceu 2 vezes\n",
            "Fim...\n"
          ]
        }
      ]
    }
  ],
  "metadata": {
    "kernelspec": {
      "display_name": "Python 3 (ipykernel)",
      "language": "python",
      "name": "python3"
    },
    "language_info": {
      "codemirror_mode": {
        "name": "ipython",
        "version": 3
      },
      "file_extension": ".py",
      "mimetype": "text/x-python",
      "name": "python",
      "nbconvert_exporter": "python",
      "pygments_lexer": "ipython3",
      "version": "3.9.13"
    },
    "colab": {
      "provenance": []
    }
  },
  "nbformat": 4,
  "nbformat_minor": 5
}